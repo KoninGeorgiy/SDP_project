{
  "cells": [
    {
      "cell_type": "markdown",
      "metadata": {
        "id": "view-in-github",
        "colab_type": "text"
      },
      "source": [
        "<a href=\"https://colab.research.google.com/github/KoninGeorgiy/SDP_project/blob/main/SDP_.ipynb\" target=\"_parent\"><img src=\"https://colab.research.google.com/assets/colab-badge.svg\" alt=\"Open In Colab\"/></a>"
      ]
    },
    {
      "cell_type": "code",
      "execution_count": null,
      "metadata": {
        "id": "gVAX9TgXx0vj"
      },
      "outputs": [],
      "source": [
        "import numpy as np\n",
        "import cvxpy as cp\n",
        "import networkx as nx\n",
        "import matplotlib.pyplot as plt\n",
        "from scipy.linalg import solve\n",
        "from scipy import stats\n",
        "\n",
        "def is_pos_semidef(x):\n",
        "    return np.all(np.linalg.eigvals(x) >= 0)\n",
        "\n",
        "# функция для проверки положительной определенности матрицы\n",
        "def is_pos_def(x):\n",
        "    return np.all(np.linalg.eigvals(x) > 0)\n",
        "\n",
        "# функция для проверки симметричности матрицы\n",
        "def is_symmetric(x):\n",
        "    return (abs(x - np.transpose(x)) < 0.00000001).all()\n",
        "\n",
        "# функция для проверки матрицы на квадаратичность\n",
        "def is_squared(x):\n",
        "    return x.shape[0] == x.shape[1]\n",
        "\n",
        "\n",
        "\n",
        "# функция для перемножения симметричных матриц через жирную точку(tr(xy))\n",
        "def bullet(x,y):\n",
        "    return np.trace(x.dot(y))"
      ],
      "id": "gVAX9TgXx0vj"
    },
    {
      "cell_type": "code",
      "execution_count": null,
      "metadata": {
        "id": "AbdATFVVx0vl",
        "outputId": "fe1b24a4-844d-4f07-8e02-3bf983c1b84c"
      },
      "outputs": [
        {
          "name": "stdout",
          "output_type": "stream",
          "text": [
            "Requirement already satisfied: cvxpy in c:\\users\\георгий\\appdata\\local\\programs\\python\\python38\\lib\\site-packages (1.2.0)"
          ]
        },
        {
          "name": "stderr",
          "output_type": "stream",
          "text": [
            "WARNING: You are using pip version 20.2.3; however, version 22.1 is available.\n",
            "You should consider upgrading via the 'c:\\users\\георгий\\appdata\\local\\programs\\python\\python38\\python.exe -m pip install --upgrade pip' command.\n"
          ]
        },
        {
          "name": "stdout",
          "output_type": "stream",
          "text": [
            "\n",
            "Requirement already satisfied: scipy>=1.1.0 in c:\\users\\георгий\\appdata\\local\\programs\\python\\python38\\lib\\site-packages (from cvxpy) (1.6.3)\n",
            "Requirement already satisfied: scs>=1.1.6 in c:\\users\\георгий\\appdata\\local\\programs\\python\\python38\\lib\\site-packages (from cvxpy) (3.2.0)\n",
            "Requirement already satisfied: osqp>=0.4.1 in c:\\users\\георгий\\appdata\\local\\programs\\python\\python38\\lib\\site-packages (from cvxpy) (0.6.2.post5)\n",
            "Requirement already satisfied: numpy>=1.15 in c:\\users\\георгий\\appdata\\local\\programs\\python\\python38\\lib\\site-packages (from cvxpy) (1.19.2)\n",
            "Requirement already satisfied: ecos>=2 in c:\\users\\георгий\\appdata\\local\\programs\\python\\python38\\lib\\site-packages (from cvxpy) (2.0.10)\n",
            "Requirement already satisfied: qdldl in c:\\users\\георгий\\appdata\\local\\programs\\python\\python38\\lib\\site-packages (from osqp>=0.4.1->cvxpy) (0.1.5.post2)\n"
          ]
        }
      ],
      "source": [
        "!pip install cvxpy"
      ],
      "id": "AbdATFVVx0vl"
    },
    {
      "cell_type": "markdown",
      "metadata": {
        "id": "oDrdo6Kvx0vm"
      },
      "source": [
        "\n",
        "# План\n",
        "1. Задача линейного программирования LP\n",
        "2. Матрицы\n",
        "3. Полуопределенное программирование SDP\n",
        "4. Двойственность SDP\n",
        "5. Отличия SDP от LP\n",
        "6. Метод внутренней точки\n",
        "7. SDP в комбинаторной оптимизации(задача MAXCUT)"
      ],
      "id": "oDrdo6Kvx0vm"
    },
    {
      "cell_type": "markdown",
      "metadata": {
        "id": "t2mjxjqVx0vn"
      },
      "source": [
        "## 1. Задача линейного программирования LP\n",
        "\n"
      ],
      "id": "t2mjxjqVx0vn"
    },
    {
      "cell_type": "markdown",
      "metadata": {
        "id": "yREVnuGex0vo"
      },
      "source": [
        "***\n",
        "**Задача лин. прогр. в канон. форме:**\n",
        "$$LP:~c\\cdot x=\\sum_{j=1}^{n}c_jx_j\\rightarrow min$$\n",
        "$$s.t.~a_ix=b_i,~i=1,...,m;~x\\in R_+^n=\\{x\\in R^n|x\\geq 0\\}$$\n",
        "***\n",
        "Тут $R_+^n$ - замкнутый выпуклый конус."
      ],
      "id": "yREVnuGex0vo"
    },
    {
      "cell_type": "markdown",
      "metadata": {
        "id": "2Y4D72nFx0vo"
      },
      "source": [
        "\n",
        "***\n",
        "**Опр.** K - замкнутый выпуклый конус, если:\n",
        "- $x,w\\in K\\Rightarrow \\alpha x+\\beta w\\in K~\\forall\\alpha,\\beta\\geq 0$\n",
        "- K - замкнутое множество\n",
        "***\n"
      ],
      "id": "2Y4D72nFx0vo"
    },
    {
      "cell_type": "markdown",
      "metadata": {
        "id": "8qhr3tF_x0vo"
      },
      "source": [
        "***\n",
        "**Двойственная задача LP:**\n",
        "$$LD:~y\\cdot b=\\sum_{i=1}^{m}y_i b_i\\rightarrow max$$\n",
        "$$s.t.~\\sum_{i=1}^m y_i a_i+s=c;~s\\in R_+^n$$\n",
        "***"
      ],
      "id": "8qhr3tF_x0vo"
    },
    {
      "cell_type": "markdown",
      "metadata": {
        "id": "GI_NAn8Tx0vo"
      },
      "source": [
        "Пусть $x$ - допустимое решение LP, $(y,S)$ - допустимое решение LD, тогда **разрыв двойственности**: \n",
        "$c\\cdot x-y\\cdot b=(c-\\sum_{i=1}^m y_i a_i)\\cdot x=s\\cdot x\\geq 0$, так как $x\\geq 0, s\\geq 0$. Однако из теории двойственности LP известно, что если задача LP выполнима и имеет ограниченный оптимум, то LP и LD достигают своих оптимумов без разрыва двойственности, т.е.<br>\n",
        "$\\exists $ $x^*$ и $(y^*,S^*)$-решения LP и LD, такие что $c\\cdot x^*-\\sum_{i=1}^m y_i^* b_i=s^*\\cdot x^*=0$. "
      ],
      "id": "GI_NAn8Tx0vo"
    },
    {
      "cell_type": "markdown",
      "metadata": {
        "id": "loHOLhAGx0vp"
      },
      "source": [
        "## 2. Матрицы"
      ],
      "id": "loHOLhAGx0vp"
    },
    {
      "cell_type": "markdown",
      "metadata": {
        "id": "LbAuXYqHx0vp"
      },
      "source": [
        "***\n",
        "**Опр.** X - матрица $n\\times n$. X - полож. полуопределенная матрица(psd), если $v^TXv\\geq 0~\\forall v\\in R^n$.\n",
        "***\n",
        "***\n",
        "**Опр.** X - матрица $n\\times n$. X - полож. определенная матрица(pd), если $v^TXv> 0~\\forall v\\in R^n$.\n",
        "***"
      ],
      "id": "LbAuXYqHx0vp"
    },
    {
      "cell_type": "markdown",
      "metadata": {
        "id": "g2dOtNVxx0vp"
      },
      "source": [
        "Пусть:\n",
        "- $S^n$ - множество симметричных матриц $n\\times n$\n",
        "- $S_+^n$ - множество симметричных полож. полуопределенных матриц $n\\times n$\n",
        "- $S_{++}^n$ - множество симметричных полож. определенных матриц $n\\times n$"
      ],
      "id": "g2dOtNVxx0vp"
    },
    {
      "cell_type": "markdown",
      "metadata": {
        "id": "kG14Hae9x0vq"
      },
      "source": [
        "Пусть $X,Y\\in S^n$. Тогда:\n",
        "- $X\\succeq 0\\Leftrightarrow X\\in S^n_+$\n",
        "- $X\\succ 0\\Leftrightarrow X\\in S^n_{++}$"
      ],
      "id": "kG14Hae9x0vq"
    },
    {
      "cell_type": "markdown",
      "metadata": {
        "id": "4qg95N1ix0vq"
      },
      "source": [
        "***\n",
        "**Утв. 2.1.** $S_+^n$ - замкнутый выпуклый конус в $R^{n^2}$ размерности $\\frac{n(n+1)}{2}$.<br>\n",
        "*Док-во(см. стр. 3).*\n",
        "***"
      ],
      "id": "4qg95N1ix0vq"
    },
    {
      "cell_type": "markdown",
      "metadata": {
        "id": "vkVN8XIfx0vq"
      },
      "source": [
        "Св-ва симметричных матриц:\n",
        "- если $X\\in S^n$, то $X=QDQ^T$, где Q - **ортогональная**, D - **диагональная**\n",
        "- если $X=QDQ^T$, то столбцы Q - n ортогональных собственных векторов X, а элементы диагонали D - собственные числа X\n",
        "- $X \\succeq 0\\Leftrightarrow X=QDQ^T$, где элементы диагонали D $\\geq 0$\n",
        "- $X \\succ 0\\Leftrightarrow X=QDQ^T$, где элементы диагонали D $> 0$\n",
        "- $X \\succeq 0$ и $X_{ii}=0\\Rightarrow X_{ij}=X_{ji}=0~\\forall j=1,...,n$\n",
        "- пусть \n",
        "$\\begin{pmatrix}\n",
        "  P& v\\\\\n",
        "  v^T& d\n",
        "\\end{pmatrix}$\n",
        ", где $P\\succ 0$, v - вектор, d - скаляр. Тогда: $M\\succ 0\\Leftrightarrow d-v^TP^{-1}v>0$"
      ],
      "id": "vkVN8XIfx0vq"
    },
    {
      "cell_type": "markdown",
      "metadata": {
        "id": "cbRQgrSpx0vq"
      },
      "source": [
        "## 3. Полуопределенное программирование SDP"
      ],
      "id": "cbRQgrSpx0vq"
    },
    {
      "cell_type": "markdown",
      "metadata": {
        "id": "vszU_X9Ox0vr"
      },
      "source": [
        "Рассмотрим $X\\in S^n$."
      ],
      "id": "vszU_X9Ox0vr"
    },
    {
      "cell_type": "markdown",
      "metadata": {
        "id": "6f7APVD_x0vr"
      },
      "source": [
        "***\n",
        "**Опр.** $C(X)$ - линейная фукнция от X, если $C(X)=C\\bullet X=\\sum_{i=1}^n \\sum_{j=1}^n C_{ij}X_{ij}$.\n",
        "***\n",
        "$\\rightarrow$ Если X симметрична, то без потерь общности можно считать C тоже симметричной матрицей."
      ],
      "id": "6f7APVD_x0vr"
    },
    {
      "cell_type": "markdown",
      "metadata": {
        "id": "q6gNpQJqx0vr"
      },
      "source": [
        "Теперь определим задачу полуопределенного программирования:\n",
        "***\n",
        "**Задача полуопр. прогр.:**\n",
        "$$SDP:~C\\bullet X\\rightarrow min$$\n",
        "$$s.t.~A_i\\bullet X=b_i,~i=1,...,m;~X\\succeq 0~(X\\in S^n_+),$$\n",
        "где $C, A_1, ..., A_m$ - симметричные матрицы, b - вектор размерности m.\n",
        "***"
      ],
      "id": "q6gNpQJqx0vr"
    },
    {
      "cell_type": "markdown",
      "metadata": {
        "id": "IkM_V6KXx0vs"
      },
      "source": [
        "Видно, что SDP очень похожа на LP. В действительности, LP - частный случай SDP(это показывается тривиальным образом)."
      ],
      "id": "IkM_V6KXx0vs"
    },
    {
      "cell_type": "markdown",
      "metadata": {
        "id": "HIvmXJf6x0vs"
      },
      "source": [
        "## 4. Двойственность SDP"
      ],
      "id": "HIvmXJf6x0vs"
    },
    {
      "cell_type": "markdown",
      "metadata": {
        "id": "3a4ADeCax0vs"
      },
      "source": [
        "***\n",
        "**Двойственная задача SDP:**\n",
        "$$SDD:~\\sum_{i=1}^m y_i b_i\\rightarrow max$$\n",
        "$$s.t.~\\sum_{i=1}^m y_i A_i + S=C;~S\\succeq 0$$\n",
        "***"
      ],
      "id": "3a4ADeCax0vs"
    },
    {
      "cell_type": "markdown",
      "metadata": {
        "id": "H-Pptm6px0vs"
      },
      "source": [
        "Следующее утверждение показывает, что **слабая двойственность** справедлива для задач SDP и SDD:\n",
        "***\n",
        "**Утв. 4.1.** При заданном допустимом решении X задачи SDP и (y,S) задачи SDD **разрыв двойственности**: $C\\bullet X-\\sum_{i=1}^m y_ib_i=S\\bullet X\\geq 0$. Если $C\\bullet X-\\sum_{i=1}^m y_ib_i=0$, то X и (y,S) - оптимумы SDP и SDD соответственно, причем $S\\bullet X=0$.<br>\n",
        "*Док-во(см. стр. 10).*\n",
        "***"
      ],
      "id": "H-Pptm6px0vs"
    },
    {
      "cell_type": "markdown",
      "metadata": {
        "id": "lNja20lHx0vt"
      },
      "source": [
        "В отличие от случая LP, в SDP для выполнения **сильной двойственности** необходимо выполнение определенного условия регулярности, называемого **условием Слейтера**:\n",
        "***\n",
        "**Теорема 4.1.** Пусть $z_P^*$ и $z_D^*$ - оптимальные значения целевых функций SDP и SDD соотвественно. Пусть $\\exists$ допустимое решение $\\hat{X}$ для SDP, $\\hat{X}\\succ 0$, и что $\\exists$ допустимое решение $(\\hat{y},\\hat{S})$ для SDD, $\\hat{S}\\succ 0$. Тогда SDP и SDD достигают своих оптимальных значений, причем $z_P^*=z_D^*$.<br>\n",
        "*Док-во(не приводим).*\n",
        "***"
      ],
      "id": "lNja20lHx0vt"
    },
    {
      "cell_type": "markdown",
      "metadata": {
        "id": "30yjXDm7x0vt"
      },
      "source": [
        "## 5. Отличия SDP от LP"
      ],
      "id": "30yjXDm7x0vt"
    },
    {
      "cell_type": "markdown",
      "metadata": {
        "id": "WmMbYX2nx0vt"
      },
      "source": [
        "- может существовать конечный или бесконечный разрыв двойственности. SDP и SDD могут достигать или не достигать своих оптимумов(см. теорему 4.1)\n",
        "- не существует конечного алгоритма решения SDP\n",
        "- при рациональных входных данных SDP в допустимой области может не быть рациональных решений\n",
        "- при рациональных входных данных размера L(двоичного кодирования), нормы любых возможных и/или оптимальных решений могут превышать $2^{2^L}$(или быть меньше $2^{-2^L}$)\n"
      ],
      "id": "WmMbYX2nx0vt"
    },
    {
      "cell_type": "markdown",
      "metadata": {
        "id": "53hwc3tpx0vt"
      },
      "source": [
        "## 6. Метод внутренней точки"
      ],
      "id": "53hwc3tpx0vt"
    },
    {
      "cell_type": "markdown",
      "metadata": {
        "id": "A3hgUBlRx0vu"
      },
      "source": [
        "В основе **метода внутренней точки** лежит барьерная функция, которая создает отталкивающую силу от границы допустимой области. Для SDP нужна барьерная функция, значение которой $\\rightarrow +\\infty$ по мере приближения точек X к границе полуопределенного конуса $S_+^n$."
      ],
      "id": "A3hgUBlRx0vu"
    },
    {
      "cell_type": "markdown",
      "metadata": {
        "id": "g3Zq9Ik_x0vu"
      },
      "source": [
        "***\n",
        "Пусть $X\\in S_+^n$. Тогда X имеет n собственных значений: $\\lambda_1(X),...,\\lambda_n(X)$ (с учетом кратности). Охарактеризуем внутренную часть $S_+^n$ следующим образом:\n",
        "$$int~S_+^n=\\{X\\in S^n|\\lambda_1(X)>0,...,\\lambda_n(X)>0\\}$$\n",
        "Тогда естественная **барьерная функция** для отталкивания X от границы $S_+^n$ имеет вид:\n",
        "$$-\\sum_{j=1}^n \\ln(\\lambda_j(X))=-\\ln(\\prod_{j=1}^n\\lambda_j(X))=-\\ln(det(X))$$\n",
        "***"
      ],
      "id": "g3Zq9Ik_x0vu"
    },
    {
      "cell_type": "markdown",
      "metadata": {
        "id": "jKBINvKUx0vu"
      },
      "source": [
        "Рассмотрим следующую задачу логарифмического барьера для SDP, параметризованную положительным параметром $\\Theta$:\n",
        "***\n",
        "**Задача лог. барьера для SDP:**\n",
        "$$BSDP(\\Theta):~C\\bullet X-\\Theta\\ln(det(X))\\rightarrow min$$\n",
        "$$s.t.~A_i\\bullet X=b_i,~i=1,...,m;~X\\succ 0$$\n",
        "***"
      ],
      "id": "jKBINvKUx0vu"
    },
    {
      "cell_type": "markdown",
      "metadata": {
        "id": "hvnALiITx0vu"
      },
      "source": [
        "Пусть $f_{\\Theta}(X)$ - целевая функция $BSDP(\\Theta)$, т.е.:\n",
        "$$f_{\\Theta}(X)=C\\bullet X-\\Theta\\ln(det(X)).$$\n",
        "Тогда:\n",
        "$$\\nabla f_{\\Theta}(X)=C-\\Theta X^{-1}.$$\n",
        "***\n",
        "Значит, **условия Каруша-Куна-Таккера** для $BSDP(\\Theta)$:\n",
        "$$\n",
        "\\begin{equation*}\n",
        "\\begin{cases}\n",
        "A_i\\bullet X=b_i,~i=1,...,m\\\\\n",
        "X\\succ 0\\\\\n",
        "C-\\Theta X^{-1}=\\sum_{i=1}^m y_iA_i\n",
        "\\end{cases}\n",
        "\\end{equation*}\n",
        "$$\n",
        "***"
      ],
      "id": "hvnALiITx0vu"
    },
    {
      "cell_type": "markdown",
      "metadata": {
        "id": "5k578GT1x0vu"
      },
      "source": [
        "Так как X симметрична, то ее можно представить как $X=LL^T$(разложение Холецкого). Затем определим: \n",
        "$$S=\\Theta X^{-1}=\\Theta (L^T)^{-1}L^{-1}\\Rightarrow \\frac{1}{\\Theta}L^TSL=I.$$\n",
        "***\n",
        "Теперь можно переписать **условия Каруша-Куна-Таккера** для $BSDP(\\Theta)$:\n",
        "$$\n",
        "\\begin{equation*}\n",
        "\\begin{cases}\n",
        "A_i\\bullet X=b_i,~i=1,...,m\\\\\n",
        "X\\succ 0,~X=LL^T\\\\\n",
        "\\sum_{i=1}^m y_iA_i+S=C\\\\\n",
        "I - \\frac{1}{\\Theta}L^TSL=0\n",
        "\\end{cases}\n",
        "\\end{equation*}\n",
        "$$\n",
        "***\n",
        "Из этой системы следует, что если (X,y,S) - ее решение, то X допустимо для SDP, (y,S) допустимо для SDD, и **разрыв двойственности** будет равен:\n",
        "$$S\\bullet X=\\sum_{i=1}^n\\sum_{j=1}^n S_{ij}X_{ij}=\\sum_{j=1}^n(SX)_{jj}=\\sum_{j=1}^n\\Theta=n\\Theta.$$\n",
        "Это означает, что надо пробовать решать $BSDP(\\Theta)$ при разных $\\Theta$, т.ч. $\\Theta\\rightarrow 0$."
      ],
      "id": "5k578GT1x0vu"
    },
    {
      "cell_type": "markdown",
      "metadata": {
        "id": "50hGMW-3x0vv"
      },
      "source": [
        "Однако обычно мы не можем решить точно решить данную систему. Поэтому мы определим $\\beta$-приближенное решение условий Каруша-Куна-Таккера. Будем использовать следующую норму:\n",
        "***\n",
        "**Опр.** Норма Фробениуса: $||M||=\\sqrt{M\\bullet M}=\\sqrt{\\sum_{i=1}^n\\sum_{j=1}^n M_{ij}^2}$.\n",
        "***\n"
      ],
      "id": "50hGMW-3x0vv"
    },
    {
      "cell_type": "markdown",
      "metadata": {
        "id": "nngw_cJZx0vv"
      },
      "source": [
        "Свойства нормы Фробениуса:\n",
        "- $||M||=\\sqrt{\\sum_{j=1}^n (\\lambda_j(M))^2}$, где $\\lambda_1(M),...,\\lambda_n(M)$ - собственные значения матрицы M\n",
        "- если $\\lambda$ - собственное значение матрицы M, то $|\\lambda|\\leq ||M||$\n",
        "- $|tr(M)|\\leq \\sqrt{n}||M||$\n",
        "- если $||M||<1$, то $I+M\\succ 0$\n",
        "- если $A,B\\in S^n$, то $||AB||\\leq ||A||\\cdot ||B||$"
      ],
      "id": "nngw_cJZx0vv"
    },
    {
      "cell_type": "markdown",
      "metadata": {
        "id": "QrZTzAQlx0vv"
      },
      "source": [
        "***\n",
        "Тогда $\\beta$-**приближенное решение** $BSDP(\\Theta)$ определяется как $\\forall$ решение $(X,y,S)$ из системы:\n",
        "$$\n",
        "\\begin{equation*}\n",
        "\\begin{cases}\n",
        "A_i\\bullet X=b_i,~i=1,...,m\\\\\n",
        "X\\succ 0,~X=LL^T\\\\\n",
        "\\sum_{i=1}^m y_iA_i+S=C\\\\\n",
        "||I - \\frac{1}{\\Theta}L^TSL||\\leq \\beta\n",
        "\\end{cases}\n",
        "\\end{equation*}\n",
        "$$\n",
        "***\n",
        "\n",
        "***\n",
        "**Утв. 6.1.** Если $(\\overline{X},\\overline{y},\\overline{S})$ - $\\beta$-**приближенное решение** $BSDP(\\Theta)$ и $\\beta < 1$, то $\\overline{X}$ допустимо для SDP, $(\\overline{y},\\overline{S})$ допустимо для SDD, и разрыв двойственности:\n",
        "$$n\\Theta(1-\\beta)\\leq C\\bullet X - \\sum_{i=1}^n y_ib_i=\\overline{X}\\bullet\\overline{S}\\leq n\\Theta(1+\\beta).$$\n",
        "*Док-во(см. стр. 29).*\n",
        "***"
      ],
      "id": "QrZTzAQlx0vv"
    },
    {
      "cell_type": "markdown",
      "metadata": {
        "id": "99QKNlYMx0vv"
      },
      "source": [
        "### 6.1. Алгоритм"
      ],
      "id": "99QKNlYMx0vv"
    },
    {
      "cell_type": "markdown",
      "metadata": {
        "id": "KzxDqIJ_x0vw"
      },
      "source": [
        "Основываясь на анализе выше, был предложен следующий алгоритм:<br>\n",
        "<img src = \"photos/1.png\" width = \"50%\" alt = \"скриншот\" align = center />"
      ],
      "id": "KzxDqIJ_x0vw"
    },
    {
      "cell_type": "markdown",
      "metadata": {
        "id": "l-rLVEPUx0vw"
      },
      "source": [
        "Нерешенные вопросы, связанные с этим алгоритмом:\n",
        "- как установить параметр убывания $\\alpha$\n",
        "- вывод шага Ньютона D' и множителей y'\n",
        "- является ли элементы последовательности $(X^k,y^k,S^k)$ $\\beta$-приближенными решениями $BSDP(\\Theta^k)$\n",
        "- как запустить метод на первой итерации"
      ],
      "id": "l-rLVEPUx0vw"
    },
    {
      "cell_type": "markdown",
      "metadata": {
        "id": "Hbcm_x0sx0vw"
      },
      "source": [
        "### 6.2. Шаг Ньютона"
      ],
      "id": "Hbcm_x0sx0vw"
    },
    {
      "cell_type": "markdown",
      "metadata": {
        "id": "jttBA6j8x0vw"
      },
      "source": [
        "Пусть $\\overline{X}$ - допустимое решение $BSDP(\\Theta)$ (обозначили целевую функцию $BSDP(\\Theta)$ за $f_{\\Theta}(X)=C\\bullet X-\\Theta\\ln(det(X))$; $\\nabla f_{\\Theta}(X)=C-\\Theta X^{-1}$). \n",
        "***\n",
        "Тогда **квадратичная аппроксимация** $BSDP(\\Theta)$ при $X=\\overline{X}$ определяется как:\n",
        "$$(C-\\Theta \\overline{X}^{-1})\\bullet  D+\\frac{1}{2}\\Theta\\overline{X}^{-1}D\\bullet\\overline{X}^{-1}D\\rightarrow min_{D}$$\n",
        "$$A_i\\bullet D=0,~i=1,..,m$$\n",
        "***\n",
        "Решение этой задачи и даст ньютоновское направление шага."
      ],
      "id": "jttBA6j8x0vw"
    },
    {
      "cell_type": "markdown",
      "metadata": {
        "id": "WwB73Fzgx0vw"
      },
      "source": [
        "***\n",
        "**Условия Каруша-Куна-Таккера** для этой задачи:\n",
        "$$C-\\Theta \\overline{X}^{-1}+\\Theta\\overline{X}^{-1}D\\overline{X}^{-1}=\\sum_{i=1}^n y_iA_i$$\n",
        "$$A_i\\bullet D=0$$\n",
        "Эта система называется **нормальными уравнениями**\n",
        "***"
      ],
      "id": "WwB73Fzgx0vw"
    },
    {
      "cell_type": "markdown",
      "metadata": {
        "id": "YjomTQttx0vx"
      },
      "source": [
        "Пусть D' и y' - решение нормальных уравнений(D' должна быть симметричной).<br>\n",
        "Тогда: $X'=\\overline{X}+D'$ (ньютоновский шаг); $y'=y$; $S'=C-\\sum_{i=1}^m y_i'A_i=\\Theta \\overline{X}^{-1}-\\Theta\\overline{X}^{-1}D'\\overline{X}^{-1}$ (новые переменные).<br>\n",
        "Есть следующая теорема, которая демонстрирует квадратичную сходимость метода Ньютона для данной задачи:\n",
        "***\n",
        "**Теорема 6.1.** Пусть $(\\overline{X},\\overline{y},\\overline{S})$ - $\\beta$-приближенное решение $BSDP(\\Theta)$ и $\\beta<1$, пусть (D',y') - решение нормальных уравнений, и пусть $X'=\\overline{X}+D'$ и $S'=\\Theta \\overline{X}^{-1}-\\Theta\\overline{X}^{-1}D'\\overline{X}^{-1}$. Тогда $(X',y',S')$ - $\\beta^2$-приближенное решение $BSDP(\\Theta)$.<br>\n",
        "*Док-во(см. стр. 29).*\n",
        "***"
      ],
      "id": "YjomTQttx0vx"
    },
    {
      "cell_type": "markdown",
      "metadata": {
        "id": "eMQHB3WBx0vx"
      },
      "source": [
        "### 6.3. Анализ сложности"
      ],
      "id": "eMQHB3WBx0vx"
    },
    {
      "cell_type": "markdown",
      "metadata": {
        "id": "6mxK7HEox0vx"
      },
      "source": [
        "***\n",
        "**Теорема 6.2 (о релаксации).** Пусть $(\\overline{X},\\overline{y},\\overline{S})$ - $\\beta$-приближенное решение $BSDP(\\Theta)$ и $\\beta<1$. Пусть $\\alpha=1-\\frac{\\sqrt{\\beta}-\\beta}{\\sqrt{\\beta}+\\sqrt{n}}$ и $\\Theta'=\\alpha\\Theta$. Тогда $(\\overline{X},\\overline{y},\\overline{S})$ - это $\\sqrt{\\beta}$-приближенное решение для $BSDP(\\Theta')$.<br>\n",
        "*Док-во(см. стр. 36).*\n",
        "***\n",
        "***\n",
        "**Теорема 6.3 (о сходимости).** Пусть $(X^0,y^0,S^0)$ - $\\beta$-приближенное решение $BSDP(\\Theta^0)$ и $\\beta<1$. Тогда для $\\forall k=1,2,3,...$ : $(X^k,y^k,S^k)$ - $\\beta$-приближенное решение $BSDP(\\Theta^k)$.<br>\n",
        "*Док-во(см. стр. 37).*\n",
        "***\n",
        "***\n",
        "**Теорема 6.4 (о сложности).** Пусть $(X^0,y^0,S^0)$ - $\\beta=\\frac{1}{4}$-приближенное решение $BSDP(\\Theta^0)$. Чтобы получить допустимые решения $(X^k,y^k,S^k)$ исходной и двойственной задач с рызрывом двойственности не более $\\varepsilon$, необходимо запустить алгоритм не более \n",
        "$k=\\lceil 6\\sqrt{n} \\ln (\\frac{1.25}{0.75}\\frac{X^0\\bullet S^0}{\\varepsilon})\\rceil$ итераций.<br>\n",
        "*Док-во(см. стр. 39).*\n",
        "***"
      ],
      "id": "6mxK7HEox0vx"
    },
    {
      "cell_type": "markdown",
      "metadata": {
        "id": "aRFwaGCcx0vx"
      },
      "source": [
        "### 6.4. Как начать метод с выполнимой точки"
      ],
      "id": "aRFwaGCcx0vx"
    },
    {
      "cell_type": "markdown",
      "metadata": {
        "id": "y1mwWo5bx0vx"
      },
      "source": [
        "Алгоритм и его производительность зависит от наличия начальной точки $(X^0,y^0,S^0)$, которая является $\\beta$-приближенным решением задачи $BSDP(\\Theta^0)$. Сейчас мы покажем, как получить такую точку, имея положительно определенное допустимое решение $X^0$ задачи SDP.<br>\n",
        "Предполагаем, что нам заданы $\\Theta=\\Theta^0$ - значение параметра барьера, $X=X^0$, которое выполнимо для $BSDP(\\Theta^0)$, т.е. $A_i\\bullet X^0=b_i,~i=1,...,m$ и $X^0\\succ 0$. Попытаемся приблизительно решить $BSDP(\\Theta^0)$, начиная с $X=X^0$, испоьзуя шаг Ньютона на каждой итерации. Тогда формальное описание алгоритма:<br>\n",
        "<img src = \"photos/2.png\" width = \"50%\" alt = \"скриншот\" align = center />\n",
        "<img src = \"photos/3.png\" width = \"49%\" alt = \"скриншот\" align = center />"
      ],
      "id": "y1mwWo5bx0vx"
    },
    {
      "cell_type": "markdown",
      "metadata": {
        "id": "qNfcn42Ix0vy"
      },
      "source": [
        "Следующие 2 утверждения доказывают правильность 3 Шага данного алгоритма:\n",
        "***\n",
        "**Утв. 6.2.** Пусть $(D',y')$ - решение нормальных уравнений (10) для точки $\\overline{X}$ для заданного значения $\\Theta^0$ параметра барьера и пусть $||\\overline{L}^{-1}D'(\\overline{L}^{-1})^T||\\leq \\frac{1}{4}$. Тогда $\\overline{X}$ - $\\frac{1}{4}$-приближенное решение $BSDP(\\Theta^0)$.<br>\n",
        "*Док-во(см. стр. 41).*\n",
        "***\n",
        "***\n",
        "**Утв. 6.3.** Пусть $\\overline{X}$ удовлетворяет $A_i\\bullet \\overline{X}=b_i,~i=1,...,m$ и $\\overline{X}\\succ 0$. Пусть $(D',y')$ - решение нормальных уравнений (10) для точки $\\overline{X}$ для заданного значения $\\Theta^0$ параметра барьера и пусть $||\\overline{L}^{-1}D'(\\overline{L}^{-1})^T||\\leq \\frac{1}{4}$. Тогда:\n",
        "$$\\forall\\gamma\\in [0,1):~f_{\\Theta^0}(\\overline{X}+\\frac{\\gamma}{||\\overline{L}^{-1}D'(\\overline{L}^{-1})^T||}D')\\leq f_{\\Theta^0}(\\overline{X})+\\Theta^0(-\\gamma ||\\overline{L}^{-1}D'(\\overline{L}^{-1})^T||+\\frac{\\gamma^2}{2(1-\\gamma)}).$$\n",
        "*Док-во(см. стр. 42).*\n",
        "***"
      ],
      "id": "qNfcn42Ix0vy"
    },
    {
      "cell_type": "markdown",
      "metadata": {
        "id": "fQf3qGB8x0vy"
      },
      "source": [
        "### 6.5. Реализация алгоритма нахождения начальной строго-допустимой точки"
      ],
      "id": "fQf3qGB8x0vy"
    },
    {
      "cell_type": "markdown",
      "metadata": {
        "id": "ijDl22mMx0vy"
      },
      "source": [
        "Напишем функцию $feasible\\_point(C, A_1,...,A_m, b, X^0, \\Theta^0 = 1)$, которая принимает на вход параметры задачи $(C,A_1,...,A_m,b)$, допустимую точку $X^0$ и параметр барьера $\\Theta^0$, а выдает начальную строго-допустимую точку $(\\overline{X}, \\overline{y}, \\overline{S})$ и параметр барьера $\\Theta^0$:"
      ],
      "id": "ijDl22mMx0vy"
    },
    {
      "cell_type": "code",
      "execution_count": null,
      "metadata": {
        "id": "4dLg3jVqx0vy"
      },
      "outputs": [],
      "source": [
        "def norm_equations(c,a_array, b, x, theta):\n",
        "    # определям размеры матрицы\n",
        "    n = len(x)\n",
        "    m = len(a_array)\n",
        "    \n",
        "    \n",
        "    \n",
        "    \n",
        "    # для решения системы нормальных уравнений надо определить матрицу matrix и столбец своб. членов column\n",
        "    matrix = np.zeros((n**2  + m, n** 2 + m))\n",
        "    \n",
        "    # создаем столбец свободных членов, соответствующий элементам матрицы theta*X-XCX, лежащим на и выше диагонали\n",
        "    p = theta * x - x.dot(c).dot(x)\n",
        "    column = [0 for i in range(n**2 + m)]\n",
        "    counter = 0\n",
        "    for i in range(n):\n",
        "        for j in range(n):\n",
        "            if i <= j:\n",
        "                column[counter] = p[i][j]\n",
        "                counter += 1\n",
        "                \n",
        "    # создаем матрицу для умножения на искомый вектор(опять в рассмотрение берем элементы, лежащие на и выше\n",
        "    # диагонали)\n",
        "    \n",
        "    counter = 0\n",
        "    \n",
        "    e = np.eye(n)\n",
        "    for i in range(n):\n",
        "        temp = np.zeros(n**2)\n",
        "        for j in range(n):\n",
        "            temp[n * j] = theta * e[i][j]\n",
        "        for k in range(n):\n",
        "            if i <= k:\n",
        "                matrix[counter, :n**2] = np.roll(temp, k)\n",
        "                counter += 1\n",
        "    \n",
        "       \n",
        "    # заполняем таблицу ограничениями -y_i * (X A_i X)\n",
        "    xax_array = []\n",
        "    for a in a_array:\n",
        "        xax = -x.dot(a).dot(x)\n",
        "        temp = []\n",
        "        for i in range(n):\n",
        "            for j in range(n):\n",
        "                if i <= j:\n",
        "                    temp.append(xax[i][j])\n",
        "        xax_array.append(temp)\n",
        "    \n",
        "    for i in range(m):\n",
        "        matrix[:counter, n**2 + i] = xax_array[i]\n",
        "                \n",
        "    # заполняем таблицу ограничениями bullet(A_i, D)\n",
        "    for i in range(m):\n",
        "        matrix[counter, :n**2] = np.ravel(a_array[i])  \n",
        "        counter += 1\n",
        "            \n",
        "    \n",
        "        \n",
        "    # заполняем таблицу ограничениями на симметричность матрицы D\n",
        "    for i in range(n):\n",
        "        for j in range(n):\n",
        "            if i < j:\n",
        "                temp = np.zeros((n, n))\n",
        "                temp[i][j] = 1\n",
        "                temp[j][i] = -1\n",
        "                matrix[counter][:len(x) ** 2] = np.ravel(temp)\n",
        "                counter += 1\n",
        "                \n",
        "    \n",
        "    # решение представляет собой вектор (d_11,...,d_nn,y_1,...,y_m)\n",
        "    solution = solve(matrix, column)\n",
        "    \n",
        "    # искомая матрица D\n",
        "    d = np.array([[solution[len(x) * i + j] for i in range(len(x))]for j in range(len(x))])\n",
        "    \n",
        "    # искомые коэффициенты y\n",
        "    y = solution[len(x) ** 2:].copy()\n",
        "    \n",
        "    return d, y\n"
      ],
      "id": "4dLg3jVqx0vy"
    },
    {
      "cell_type": "code",
      "execution_count": null,
      "metadata": {
        "id": "UeuzsEs0x0vz"
      },
      "outputs": [],
      "source": [
        "\n",
        "\n",
        "\n",
        "def norm_equations1(c,a_array, b, x, theta):\n",
        "    # определям размеры матрицы\n",
        "    n = len(x)\n",
        "    m = len(a_array)\n",
        "    \n",
        "    \n",
        "    \n",
        "    # ищем обратную к X матрицу\n",
        "    x_inv = np.linalg.inv(x)\n",
        "    \n",
        "    # для решения системы нормальных уравнений надо определить матрицу matrix и столбец своб. членов column\n",
        "    matrix = np.zeros((n**2  + m, n** 2 + m))\n",
        "    \n",
        "    # создаем столбец свободных членов, соответствующий элементам матрицы -C*X + E, лежащим на и выше диагонали\n",
        "    p = -c.dot(x) + theta * np.eye(n)\n",
        "    column = [0 for i in range(n**2 + m)]\n",
        "    counter = 0\n",
        "    for i in range(n):\n",
        "        for j in range(n):\n",
        "            if i <= j:\n",
        "                column[counter] = p[i][j]\n",
        "                counter += 1\n",
        "                \n",
        "    # создаем матрицу для умножения на искомый вектор(опять в рассмотрение берем элементы, лежащие на и выше\n",
        "    # диагонали)\n",
        "    counter = 0\n",
        "    for i in range(n):\n",
        "        temp = np.zeros(n**2)\n",
        "        for j in range(n):\n",
        "            temp[n * j] = theta * x_inv[i][j]\n",
        "        for k in range(n):\n",
        "            if i <= k:\n",
        "                matrix[counter, :n**2] = np.roll(temp, k)\n",
        "                counter += 1\n",
        "    \n",
        "       \n",
        "    # заполняем таблицу ограничениями -y_i * (A_i*X)\n",
        "    ax_array = []\n",
        "    for a in a_array:\n",
        "        ax = -a.dot(x)\n",
        "        temp = []\n",
        "        for i in range(n):\n",
        "            for j in range(n):\n",
        "                if i <= j:\n",
        "                    temp.append(ax[i][j])\n",
        "        ax_array.append(temp)\n",
        "    \n",
        "    for i in range(m):\n",
        "        matrix[:counter, n**2 + i] = ax_array[i]\n",
        "                \n",
        "    # заполняем таблицу ограничениями bullet(A_i, D)\n",
        "    for i in range(m):\n",
        "        matrix[counter, :n**2] = np.ravel(a_array[i])  \n",
        "        counter += 1\n",
        "            \n",
        "    \n",
        "        \n",
        "    # заполняем таблицу ограничениями на симметричность матрицы D\n",
        "    for i in range(n):\n",
        "        for j in range(n):\n",
        "            if i < j:\n",
        "                temp = np.zeros((n, n))\n",
        "                temp[i][j] = 1\n",
        "                temp[j][i] = -1\n",
        "                matrix[counter][:len(x) ** 2] = np.ravel(temp)\n",
        "                counter += 1\n",
        "                \n",
        "    \n",
        "    # решение представляет собой вектор (d_11,...,d_nn,y_1,...,y_m)\n",
        "    solution = solve(matrix, column)\n",
        "    \n",
        "    # искомая матрица D\n",
        "    d = np.array([[solution[len(x) * i + j] for i in range(len(x))]for j in range(len(x))])\n",
        "    \n",
        "    # искомые коэффициенты y\n",
        "    y = solution[len(x) ** 2:].copy()\n",
        "    \n",
        "    return d, y\n",
        "    \n",
        "   \n",
        "\n"
      ],
      "id": "UeuzsEs0x0vz"
    },
    {
      "cell_type": "code",
      "execution_count": null,
      "metadata": {
        "id": "h69eQhpJx0vz"
      },
      "outputs": [],
      "source": [
        "\n",
        "\n",
        "# функция для нахождения начальной строго-допустимой точки\n",
        "def feasible_point(c, a_array, b, x_0, theta_0 = 1): \n",
        "    ax_0 = np.array([bullet(a, x_0) for a in a_array])\n",
        "    \n",
        "    # проверяем корректность входных данных(дописать проверку на одинаковые размеры матриц)\n",
        "    a_squared = [is_squared(a) for a in a_array]\n",
        "    if a_squared.count(0) != 0 or is_squared(c) == 0 or is_squared(x_0) == 0:\n",
        "        print('На вход поданы не квадратные матрицы')\n",
        "        return 1, 1, 1, 1, 1\n",
        "    if len(a_array) != len(b):\n",
        "        print('Некорректные ограничения')\n",
        "        return 1, 1, 1, 1, 1\n",
        "    if (abs(ax_0 - b) > 0.00000001).any() or is_pos_def(x_0) == 0:\n",
        "        print('X_0 не удовлетворяет условиям SDP')\n",
        "        return 1, 1, 1, 1, 1\n",
        "    a_symmetric = [is_symmetric(a) for a in a_array]\n",
        "    if a_symmetric.count(0) != 0 or is_symmetric(c) == 0 or is_symmetric(x_0) == 0:\n",
        "        print('На вход поданы несимметричные матрицы')\n",
        "        return 1, 1, 1, 1, 1\n",
        "    \n",
        "    \n",
        "    # задаем начальное значение\n",
        "    x = x_0.copy()\n",
        "    \n",
        "    \n",
        "    while True:\n",
        "        \n",
        "        # ищем разложение Холецкого\n",
        "        l = np.linalg.cholesky(x)\n",
        "    \n",
        "        # ищем обратную к X матрицу\n",
        "        x_inv = np.linalg.inv(x)\n",
        "    \n",
        "    \n",
        "        # решаем нормальные уравнения\n",
        "        d, y = norm_equations(c,a_array, b, x, theta_0)\n",
        "        \n",
        "        # проверяем условие остановы\n",
        "        norm = np.linalg.norm(np.linalg.inv(l).dot(d).dot(np.linalg.inv(l).transpose()), ord = 'fro')\n",
        "        if norm <= 0.25:\n",
        "            s = c.copy()\n",
        "            for i in range(len(a_array)):\n",
        "                s = s - y[i] * a_array[i]\n",
        "            return x, y, s, theta_0, norm\n",
        "        else:\n",
        "            x = x + (0.2 / norm) * d\n",
        "    "
      ],
      "id": "h69eQhpJx0vz"
    },
    {
      "cell_type": "markdown",
      "metadata": {
        "id": "51NfrD6Px0vz"
      },
      "source": [
        "### 6.6. Реализация алгоритма нахождения оптимума с заданным разрывом двойственности\n"
      ],
      "id": "51NfrD6Px0vz"
    },
    {
      "cell_type": "markdown",
      "metadata": {
        "id": "IZ3GUdI6x0v0"
      },
      "source": [
        "Напишем функцию $sdp(C, A_1,...,A_m, b, X^0, y^0, S^0, \\Theta^0 = 1, \\varepsilon, \\beta = \\frac{1}{4})$, которая принимает на вход параметры задачи $(C,A_1,...,A_m,b)$, начальную строго-допустимую точку $(X^0,y^0,S^0)$, параметр барьера $\\Theta^0$, требуемуюю точность для нахождения оптимума и коэффициент $\\beta=\\frac{1}{4}$ ($(X^0,y^0,S^0)$ является $\\beta=\\frac{1}{4}$-приближенным решением $BSDP(\\Theta^0)$ после выполнения функции feasible\\_point), а выдает оптимум задачи c точностью $\\varepsilon$ (она не может быть меньше $\\beta$):"
      ],
      "id": "IZ3GUdI6x0v0"
    },
    {
      "cell_type": "code",
      "execution_count": null,
      "metadata": {
        "id": "PLSYvvf3x0v0"
      },
      "outputs": [],
      "source": [
        "\n",
        "\n",
        "# функция для нахождения оптимума с заданной точностью epsilon(epsilon не может быть меньше beta!!!)\n",
        "def sdp(c, a_array, b, x_0, y_0, s_0, theta_0, beta, epsilon):\n",
        "    ax_0 = np.array([bullet(a, x_0) for a in a_array])\n",
        "    \n",
        "    # проверяем корректность входных данных(дописать проверку на одинаковые размеры матриц)\n",
        "    a_squared = [is_squared(a) for a in a_array]\n",
        "    if a_squared.count(0) != 0 or is_squared(c) == 0 or is_squared(x_0) == 0 or is_squared(s_0) == 0:\n",
        "        print('На вход поданы не квадратные матрицы')\n",
        "        return 1,1,1\n",
        "    if len(a_array) != len(b) or len(a_array) != len(y_0) or len(b) != len(y_0):\n",
        "        print('Некорректные ограничения')\n",
        "        return 1,1,1\n",
        "    if (abs(ax_0 - b) > 0.00000001).any() or is_pos_def(x_0) == 0:\n",
        "        print('X_0 не удовлетворяет условиям SDP')\n",
        "        return 1,1,1\n",
        "    a_symmetric = [is_symmetric(a) for a in a_array]\n",
        "    if a_symmetric.count(0) != 0 or is_symmetric(c) == 0 or is_symmetric(x_0) == 0 or is_symmetric(s_0) == 0:\n",
        "        print('На вход поданы несимметричные матрицы')\n",
        "        return 1,1,1\n",
        "    \n",
        "    \n",
        "    # задаем начальные значения\n",
        "    x = x_0.copy()\n",
        "    y = y_0.copy()\n",
        "    s = s_0.copy()\n",
        "    theta = theta_0\n",
        "    \n",
        "    # параметр сокращения для theta\n",
        "    alpha = 1 - (np.sqrt(beta) - beta) / (np.sqrt(beta) + np.sqrt(len(x)))\n",
        "    \n",
        "    \n",
        "    while True:\n",
        "        \n",
        "        \n",
        "        # сокращение theta\n",
        "        theta = alpha * theta\n",
        "        \n",
        "        # ищем обратную к X матрицу\n",
        "        x_inv = np.linalg.inv(x)\n",
        "        \n",
        "        # решаем нормальные уравнения\n",
        "        d, y = norm_equations(c,a_array, b, x, theta)\n",
        "        \n",
        "        \n",
        "        \n",
        "        \n",
        "        # обновление значения X\n",
        "        x = x + d\n",
        "        # обновление значения S\n",
        "        s = c.copy()\n",
        "        for i in range(len(a_array)):\n",
        "            s = s - y[i] * a_array[i]\n",
        "        \n",
        "        if bullet(x,s) <= epsilon:\n",
        "            return x, y, s\n",
        "        \n",
        "    "
      ],
      "id": "PLSYvvf3x0v0"
    },
    {
      "cell_type": "markdown",
      "metadata": {
        "id": "y7oAQU5Bx0v0"
      },
      "source": [
        "### 6.7. Пример решения задачи SDP"
      ],
      "id": "y7oAQU5Bx0v0"
    },
    {
      "cell_type": "markdown",
      "metadata": {
        "id": "zTva-Zshx0v0"
      },
      "source": [
        "На легком примере покажем, как работают написанные нами функции:"
      ],
      "id": "zTva-Zshx0v0"
    },
    {
      "cell_type": "code",
      "execution_count": null,
      "metadata": {
        "id": "AHIUP8Jvx0v0",
        "outputId": "8d5200a8-ce9d-4f83-eb74-c6057b01cea2"
      },
      "outputs": [
        {
          "name": "stdout",
          "output_type": "stream",
          "text": [
            "1) Начальная допустимая точка:\n",
            " [[1 0 0]\n",
            " [0 2 0]\n",
            " [0 0 3]]\n",
            "Значение целевой функции:  20\n",
            "Ограничения:  6 ,  17\n",
            "2) Начальная строго-допустимая точка:\n",
            " [[ 4.23847646 -0.08268541 -1.74324248]\n",
            " [-0.08268541  0.5953552  -0.06595401]\n",
            " [-1.74324248 -0.06595401  1.16616833]] \n",
            " [ 1.98753676 -0.21057727] \n",
            " [[0.64419506 0.21057727 1.        ]\n",
            " [0.21057727 1.85477234 0.42115455]\n",
            " [1.         0.42115455 2.43361779]]\n",
            "Значение целевой функции:  11.441206910728402\n",
            "Ограничения:  5.9999999999999964 ,  17.0\n",
            "Разрыв двойственности:  3.0958000084662927\n",
            "Симметричность x_0:  True\n",
            "Положительная определенность x_0:  True\n",
            "3) Точка с разрывом двойственности не больше 0.1:\n",
            " [[ 5.01367008e+00 -6.99977962e-02 -2.22225267e+00]\n",
            " [-6.99977962e-02  1.18720054e-03  3.09877785e-02]\n",
            " [-2.22225267e+00  3.09877785e-02  9.85142722e-01]]\n",
            "Значение целевой функции:  9.52696730030662\n",
            "Ограничения:  5.999999999999993 ,  17.0\n",
            "Разрыв двойственности:  0.00099574063018374\n",
            "Симметричность x:  True\n",
            "Положительная определенность x:  True\n"
          ]
        }
      ],
      "source": [
        "c = np.array([[2,0,1],[0,3,0],[1,0,4]])\n",
        "a_array = np.array([[[1,0,0],[0,1,0],[0,0,1]],[[3,1,0],[1,4,2],[0,2,2]]])\n",
        "x_0 = np.array([[1,0,0],[0,2,0],[0,0,3]])\n",
        "b = np.array([6,17])\n",
        "\n",
        "print('1) Начальная допустимая точка:\\n', x_0)\n",
        "print('Значение целевой функции: ', bullet(c, x_0))\n",
        "print('Ограничения: ', bullet(a_array[0], x_0),', ', bullet(a_array[1], x_0))\n",
        "\n",
        "x_0, y_0, s_0, theta_0, beta = feasible_point(c, a_array, b, x_0, theta_0 = 1)\n",
        "print('2) Начальная строго-допустимая точка:\\n', x_0, '\\n', y_0, '\\n', s_0)\n",
        "print('Значение целевой функции: ', bullet(c, x_0))\n",
        "print('Ограничения: ', bullet(a_array[0], x_0),', ', bullet(a_array[1], x_0))\n",
        "print('Разрыв двойственности: ', bullet(x_0, s_0))\n",
        "print('Симметричность x_0: ', is_symmetric(x_0))\n",
        "print('Положительная определенность x_0: ', is_pos_def(x_0))\n",
        "\n",
        "x, y, s = sdp(c, a_array, b, x_0, y_0, s_0, theta_0, beta, epsilon = 0.001)\n",
        "print('3) Точка с разрывом двойственности не больше 0.1:\\n', x)\n",
        "print('Значение целевой функции: ', bullet(c, x))\n",
        "print('Ограничения: ', bullet(a_array[0], x),', ', bullet(a_array[1], x))\n",
        "print('Разрыв двойственности: ', bullet(x, s))\n",
        "print('Симметричность x: ', is_symmetric(x))\n",
        "print('Положительная определенность x: ', is_pos_def(x))"
      ],
      "id": "AHIUP8Jvx0v0"
    },
    {
      "cell_type": "markdown",
      "metadata": {
        "id": "3TUalyA8x0v1"
      },
      "source": [
        "## 7. Задача о максимальном разрезе графа MAXCUT"
      ],
      "id": "3TUalyA8x0v1"
    },
    {
      "cell_type": "markdown",
      "metadata": {
        "id": "ud8X118kx0v1"
      },
      "source": [
        "Пусть $G$ - неориентированный граф с вершинами $N=\\{1,...,n\\}$ и набор ребер $E$. Пусть $w_{ij}=w_{ji}$ - вес ребра $(i,j)\\in E$. Задача **MAXCUT** состоит в том, чтобы определить подмножество  $S$ вершин $N$, для которого сумма весов ребер, идущих из $S$ в его дополнение $\\overline{S}$, максимальна."
      ],
      "id": "ud8X118kx0v1"
    },
    {
      "cell_type": "markdown",
      "metadata": {
        "id": "EPGAmOObx0v1"
      },
      "source": [
        "***\n",
        "Опишем задачу **MAXCUT** формально.<br>\n",
        "Пусть $x_j=1$ для $j\\in S$, $x_j=-1$ для $j\\in \\overline{S}$. Тогда:\n",
        "$$MAXCUT:~\\frac{1}{4}\\sum_{i=1}^n\\sum_{j=1}^n w_{ij}(1-x_ix_j) \\rightarrow max_x$$\n",
        "$$s.t.~x_j\\in\\{-1,1\\},~j=1,...,n$$\n",
        "***\n"
      ],
      "id": "EPGAmOObx0v1"
    },
    {
      "cell_type": "markdown",
      "metadata": {
        "id": "f9i-7wRix0v1"
      },
      "source": [
        "Задача **MAXCUT** является NP-трудной, и до определенного момента(появления теории SDP) существовал только $\\frac{1}{2}$-аппроксимационный вероятностный алгоритм."
      ],
      "id": "f9i-7wRix0v1"
    },
    {
      "cell_type": "markdown",
      "metadata": {
        "id": "IFIRYjEbx0v2"
      },
      "source": [
        "### 7.0. Как брать информацию о графах для данной задачи"
      ],
      "id": "IFIRYjEbx0v2"
    },
    {
      "cell_type": "markdown",
      "metadata": {
        "id": "z7elg3Ghx0v2"
      },
      "source": [
        "В папке **/data** будут храниться файлы *.txt*, в которых лежат данные об исследуемых графах(в строке через пробел написано число вершин и число ребер, в последующих строчках хранятся ребра в формате (i j) - ребро между i-ой и j-ой вершинами). Все алгоритмы, написанные далее, способны решать данную задачу для взвешенных графов, однако прогонять через нее мы будем невзвешенные графы для большей простоты анализа и визуализации. Вот алгоритм, позволяющий брать из файла данные о графе и записывать ее в удобном нам формате:"
      ],
      "id": "z7elg3Ghx0v2"
    },
    {
      "cell_type": "code",
      "execution_count": null,
      "metadata": {
        "id": "fw27Zwt9x0v2"
      },
      "outputs": [],
      "source": [
        "# так брать инфо о графах из файлов \n",
        "def get_graph(link):\n",
        "    file_location = link\n",
        "    with open(file_location, 'r') as input_data_file:\n",
        "        input_data_1 = input_data_file.read()\n",
        "\n",
        "    \n",
        "\n",
        "    # парсим входные данные \n",
        "    def parser(input_data):\n",
        "        lines = input_data.split('\\n')\n",
        "        first_line = lines[0].split()\n",
        "        node_count = int(first_line[0])\n",
        "        edge_count = int(first_line[1])\n",
        "    \n",
        "        edges = []\n",
        "        for i in range(1, edge_count + 1):\n",
        "            line = lines[i]\n",
        "            parts = line.split()\n",
        "            edges.append((int(parts[0]), int(parts[1])))\n",
        "        return edges, edge_count, node_count\n",
        "\n",
        "    edges, edge_count, node_count = parser(input_data_1)\n",
        "\n",
        "    # входные данные содержат невзвешенные графы, поэтому матрицу весов тривиально задададим сами(можно и зарандомить)\n",
        "    weights = np.zeros((node_count, node_count))\n",
        "    for edge in edges:\n",
        "        weights[edge[0]][edge[1]] = 1\n",
        "        weights[edge[1]][edge[0]] = 1\n",
        "    return edges, edge_count, node_count, weights"
      ],
      "id": "fw27Zwt9x0v2"
    },
    {
      "cell_type": "markdown",
      "metadata": {
        "id": "TOW4wcZtx0v2"
      },
      "source": [
        "Следующий скрипт позволяет начертить граф, поданный на вход:"
      ],
      "id": "TOW4wcZtx0v2"
    },
    {
      "cell_type": "code",
      "execution_count": null,
      "metadata": {
        "id": "KDL4IsbWx0v2"
      },
      "outputs": [],
      "source": [
        "# начертим исходный граф\n",
        "def draw_graph(edges, node_count):\n",
        "    G = nx.Graph()\n",
        "    G.add_nodes_from([i for i in range(node_count)])\n",
        "    G.add_edges_from(edges)\n",
        "\n",
        "    nx.draw_circular(G, \n",
        "         node_size = 300, \n",
        "         with_labels = True)"
      ],
      "id": "KDL4IsbWx0v2"
    },
    {
      "cell_type": "code",
      "execution_count": null,
      "metadata": {
        "id": "eGA6a4vWx0v3"
      },
      "outputs": [],
      "source": [
        "# начертим полученное разбиение графа\n",
        "def draw_coloured_graph(edges, node_count, nodes):\n",
        "    G = nx.Graph()\n",
        "    G.add_nodes_from([i for i in range(node_count)])\n",
        "    G.add_edges_from(edges)\n",
        "    color_map = []\n",
        "    \n",
        "    for node in nodes:\n",
        "        if node == 1:\n",
        "            color_map.append('grey')\n",
        "        else:\n",
        "            color_map.append('red')\n",
        "            \n",
        "    nx.draw_circular(G,\n",
        "         node_color = color_map,\n",
        "         node_size = 300,\n",
        "         with_labels = True)"
      ],
      "id": "eGA6a4vWx0v3"
    },
    {
      "cell_type": "markdown",
      "metadata": {
        "id": "0M_Vi11Nx0v3"
      },
      "source": [
        "### 7.1. Вероятностный алгоритм FlipCoin_MAXCUT"
      ],
      "id": "0M_Vi11Nx0v3"
    },
    {
      "cell_type": "markdown",
      "metadata": {
        "id": "EJGh3PkYx0v3"
      },
      "source": [
        "Для любой вершины бросаем монету с целью решить, к какой части разреза отнести данную вершину. Ожидается, что половина рёбер являются разрезающими. Этот алгоритм может быть дерандомизирован с помощью метода условных вероятностей. Таким образом, существует простой детерминированный полиномиального времени алгоритм с $\\frac{1}{2}$-аппроксимацией. Один такой алгоритм начинает с произвольного разбиения вершин заданного графа \n",
        "$G=(N,E)$ и передвигает одну вершину за один шаг из одной части разреза в другую, улучшая решение на каждом шаге до тех пор, пока улучшение возможно. Число итераций алгоритма не превосходит \n",
        "$|E|$, поскольку алгоритм улучшает разрез по меньшей мере на одно ребро. Когда алгоритм прекращает работу, по меньшей мере половина рёбер, инцидентных любой вершине, принадлежат разрезу, в противном случае перенос вершины улучшил бы разрез (увеличил бы размер разреза). Таким образом, разрез включает по меньшей мере \n",
        "$\\frac{|E|}{2}$ рёбер."
      ],
      "id": "EJGh3PkYx0v3"
    },
    {
      "cell_type": "markdown",
      "metadata": {
        "id": "KUiSLNp2x0v3"
      },
      "source": [
        "1) Напишем реализацию описанного вероятностного алгоритма:"
      ],
      "id": "KUiSLNp2x0v3"
    },
    {
      "cell_type": "code",
      "execution_count": null,
      "metadata": {
        "id": "iImYpYNgx0v3"
      },
      "outputs": [],
      "source": [
        "# вероятностный алгоритм для MAX-CUT, называется flipcoin_maxcut\n",
        "def flipcoin_maxcut(edge_count, node_count, weights):\n",
        "    \n",
        "    # целевая функция MAX-CUT\n",
        "    def obj_func(nodes, weights):\n",
        "        obj = 0\n",
        "        for i in range(len(nodes)):\n",
        "            for j in range(len(nodes)):\n",
        "                obj += weights[i][j] * (1 - nodes[i] * nodes[j])\n",
        "        return obj / 4\n",
        "                \n",
        "    \n",
        "    # задаем рандомную начальную точку нашей оптимизации(1, если лежит в подмн-ве S, -1, если лежит в его дополнении)\n",
        "    nodes_array = [[np.random.choice([-1, 1]) for i in range(node_count)]]\n",
        "    obj_array = [obj_func(nodes_array[0], weights)]\n",
        "    \n",
        "    # запустим алгоритм дерандомизации \n",
        "    for i in range(edge_count):\n",
        "        for j in range(node_count):\n",
        "            new_nodes = nodes_array[-1].copy()\n",
        "            new_nodes[j] = (-1) * new_nodes[j]\n",
        "            if obj_func(new_nodes, weights) > obj_func(nodes_array[-1], weights):\n",
        "                nodes_array.append(new_nodes)\n",
        "                obj_array.append(obj_func(new_nodes, weights))\n",
        "                break\n",
        "    # возвращает массив полученных значений целевой функции и соответсвующие распределения вершин\n",
        "    return obj_array[-1], nodes_array[-1]\n"
      ],
      "id": "iImYpYNgx0v3"
    },
    {
      "cell_type": "markdown",
      "metadata": {
        "id": "rvmnaiv_x0v4"
      },
      "source": [
        "### 7.2. SDP-релаксация задачи нахождения максимального разреза (SDP_MAXCUT)"
      ],
      "id": "rvmnaiv_x0v4"
    },
    {
      "cell_type": "markdown",
      "metadata": {
        "id": "Aq3_cZGBx0v4"
      },
      "source": [
        "***\n",
        "Формальное описание задачи **MAXCUT**:<br>\n",
        "Пусть $x_j=1$ для $j\\in S$, $x_j=-1$ для $j\\in \\overline{S}$. Тогда:\n",
        "$$MAXCUT:~\\frac{1}{4}\\sum_{i=1}^n\\sum_{j=1}^n w_{ij}(1-x_ix_j) \\rightarrow max_x$$\n",
        "$$s.t.~x_j\\in\\{-1,1\\},~j=1,...,n$$\n",
        "***\n",
        "Сделаем некоторые переобозначения и переобразования, чтобы записать задачу **MAXCUT** в матрицах."
      ],
      "id": "Aq3_cZGBx0v4"
    },
    {
      "cell_type": "markdown",
      "metadata": {
        "id": "08Cyku8Kx0v4"
      },
      "source": [
        "Пусть $Y=xx^T$, тогда $Y_{ij}=x_i x_j,~i,j=1,...,n$. Также пусть $W$ - матрица весов, где на $(i,j)$-ом месте стоит $w_{ij}$. Тогда:\n",
        "***\n",
        "$$MAXCUT:~\\frac{1}{4}(\\sum_{i=1}^n\\sum_{j=1}^n w_{ij}-W\\bullet Y) \\rightarrow max_{Y,x}$$\n",
        "$$s.t.~x_j\\in\\{-1,1\\},~j=1,...,n;~Y=xx^T$$\n",
        "***\n",
        "Очевидно, что в этой задаче 1-ое ограничение эквивалентно ограничению $Y{jj}=1,~j=1,...,n$. Таким образом, получаем:\n",
        "***\n",
        "$$MAXCUT:~\\frac{1}{4}(\\sum_{i=1}^n\\sum_{j=1}^n w_{ij}-W\\bullet Y) \\rightarrow max_{Y,x}$$\n",
        "$$s.t.~Y_{jj}=1,~j=1,...,n;~Y=xx^T$$\n",
        "***\n",
        "Наконец, очевидно, что матрица $Y=xx^T$ - симметричная положительно полуопределенная матрица ранга 1. Если мы ослабим(**relax**) это условие, удалив ограничение на ранг, мы получим следующую релаксацию $MAXCUT$, которая является полуопределенной программой($SDP$):\n",
        "***\n",
        "$$RELAX:~\\frac{1}{4}(\\sum_{i=1}^n\\sum_{j=1}^n w_{ij}-W\\bullet Y) \\rightarrow max_Y$$\n",
        "$$s.t.~Y_{jj}=1,~j=1,...,n;~Y\\succeq 0$$\n",
        "***\n",
        "Легко видеть, что $RELAX$ обеспечивает верхнюю границу для $MAXCUT$, т.е.:\n",
        "<br><br>\n",
        "$$MAXCUT\\leq RELAX.$$\n",
        "<br>\n",
        "Оказывается, что без труда можно доказать:\n",
        "<br><br>\n",
        "$$0.87856\\cdot RELAX\\leq MAXCUT\\leq RELAX.$$\n",
        "<br>\n",
        "\n",
        "$\\textbf{Докажем это}$\n",
        "\n",
        "Пусть $Y^*$ оптимальное решение $RELAX$ произвольного ранга $k$. Тогда факторизация $Y^* = FF^T$ даст нам фактор $F$ размера $n\\times k$.\n",
        "\n",
        "Пусть $\\psi \\sim N(0, Y^*)$ - гауссовый случайный вектор в $\\mathbb{R}^k$, и $\\xi = F\\psi$ \n",
        "\n",
        "Пусть $f_1, \\dots, f_n \\in \\mathbb{R}^k$ строки фактора $F$. Тогда $x_i = sgn\\xi_i = sgn\\langle f_i, \\psi \\rangle$\n",
        "\n",
        "$$\\mathbb{E}\\xi\\xi^T = Y^* = FF^T = F(\\mathbb{E}\\psi\\psi^T)F^T = \\mathbb{E}(F\\psi)(F\\psi)^T$$\n",
        "\n",
        "каждая строка $f_i \\in \\mathbb{R}^k$ соответствует вершине графа. Случайный разрез определяется разбиением векторов $f_i$ на два подмножества с помощью случайной гиперплоскости $\\psi^{\\perp}$.\n",
        "\n",
        "Вычислим, что вершины $i,j$ окажутся в разных подмножествах\n",
        "\n",
        "$$\\mathbb{P}(x_ix_j = -1) = \\mathbb{P}(sgn\\langle f_i, \\psi \\rangle = -sgn\\langle f_i, \\psi \\rangle) = \\frac{\\phi(f_i, f_j)}{\\pi} = \\frac{arccos Y_{ij}^*}{\\pi}$$\n",
        "\n",
        "Мат-ожидание веса случайного разреза задаётся выражением\n",
        "\n",
        "$$\\mathbb{E}_{\\xi}c_{\\xi} = \\frac{1}{4}\\langle W, 1 - \\mathbb{E}_{\\xi}xx^T\\rangle = \\frac{1}{2}\\sum\\limits_{i<j}w_{ij}\\mathbb{E}_{\\xi}(1 - x_ix_j) = \\sum\\limits_{i<j}w_{ij}\\mathbb{P}(x_ix_j = -1) = \\sum\\limits_{i<j}w_{ij}\\frac{\\arccos Y^*_{ij}}{\\pi} = \\frac{1}{2\\pi}\\langle W, \\arccos Y^* \\rangle \\geq \\alpha \\cdot \\frac{1}{4}\\langle W, 1 - Y^* \\rangle = \\alpha \\cdot RELAX$$\n",
        "\n",
        "где $\\alpha = \\min_{x\\in[-1,1]}\\frac{\\frac{1}{2\\pi}\\arccos x}{\\frac{1}{4}(1-x)} = \\min_{x\\in[-1,1]}\\frac{2\\arccos x}{\\pi(1-x)} \\approx 0,87856$\n",
        "\n",
        "А это впечатляющий результат, так как он говорит, что значение полуопределенной релаксации гарантированно будет не более чем на $12%$ выше значения NP-трудной задачи $MAXCUT$.\n"
      ],
      "id": "08Cyku8Kx0v4"
    },
    {
      "cell_type": "markdown",
      "metadata": {
        "id": "PmrGb9fUx0v4"
      },
      "source": [
        "1) Напишем реализацию описанного алгоритма релаксации:"
      ],
      "id": "PmrGb9fUx0v4"
    },
    {
      "cell_type": "code",
      "execution_count": null,
      "metadata": {
        "id": "i3nlc4_Wx0v4"
      },
      "outputs": [],
      "source": [
        "# функция для решения задачи RELAX, использующая пакетный метод\n",
        "def cvx(node_count, weights):\n",
        "    x = cp.Variable((node_count, node_count), PSD=True)\n",
        "    obj = cp.Maximize(0.25 * cp.trace(cp.matmul(weights, 1 - x)))\n",
        "    constraints = [cp.diag(x) == 1, x >> 0, x >> 0, x >> 0]\n",
        "    prob = cp.Problem(obj, constraints)\n",
        "    prob.solve(solver = cp.SCS) \n",
        "    return prob.value, x.value\n",
        "\n",
        "# если flag = 0, то для решения RELAX используется наша реализация метода SDP\n",
        "# если flag = 1, то для решения RELAX используется пакетная реализация SDP\n",
        "def sdp_maxcut(edge_count, node_count, weights, epsilon = 0.1):\n",
        "    \n",
        "    # целевая функция MAX-CUT\n",
        "    def obj_func(nodes, weights):\n",
        "        obj = 0\n",
        "        for i in range(len(nodes)):\n",
        "            for j in range(len(nodes)):\n",
        "                obj += weights[i][j] * (1 - nodes[i] * nodes[j])\n",
        "        return obj / 4\n",
        "    \n",
        "    a_array =[]\n",
        "    for i in range(node_count):\n",
        "        temp = np.zeros((node_count, node_count))\n",
        "        temp[i][i] = 1\n",
        "        a_array.append(temp)\n",
        "    \n",
        "    c = weights\n",
        "    b = np.array([1 for i in range(node_count)])\n",
        "    \n",
        "    # наше решение:\n",
        "        \n",
        "    # задаем начальную точку(просто единичная матрица)\n",
        "    x_0 = np.eye(node_count)\n",
        "    \n",
        "    # находим начальную строго допустимую точку\n",
        "    x_0, y_0, s_0, theta_0, beta = feasible_point(c, a_array, b, x_0, theta_0 = 1)\n",
        "    \n",
        "    # находим точку с заданным разрывом двойственности\n",
        "    x, y, s = sdp(c, a_array, b, x_0, y_0, s_0, theta_0, beta, epsilon)\n",
        "        \n",
        "    # находим значение целевой функции задачи RELAX\n",
        "    relax_obj = 0\n",
        "    for i in range(node_count):\n",
        "        for j in range(node_count):\n",
        "            relax_obj += weights[i][j]\n",
        "    relax_obj -= bullet(c,x)\n",
        "    relax_obj = relax_obj / 4\n",
        "        \n",
        "    # решение с использованием пакетного метода\n",
        "    cvx_obj, cvx_x = cvx(node_count, weights)\n",
        "        \n",
        "    \n",
        "    \n",
        "    # восстанавливаем решение исходной задачи\n",
        "    mean = np.zeros(node_count)\n",
        "     \n",
        "    # создаем 100 нормальных векторов с соответствующими параметрами\n",
        "    solution = stats.multivariate_normal(mean = mean, cov = x).rvs(100)\n",
        "    \n",
        "    for s in solution:\n",
        "        for i in range(len(s)):\n",
        "            if s[i] > 0:\n",
        "                s[i] = 1\n",
        "            else:\n",
        "                s[i] = -1\n",
        "                \n",
        "    nodes = np.ones(node_count)\n",
        "    obj = 0\n",
        "    \n",
        "    # выбираем лучшее решение из сгенерированных\n",
        "    for i in range(len(solution)):\n",
        "        temp = solution[i]\n",
        "        if obj_func(temp, weights) > obj:\n",
        "            nodes = temp\n",
        "            obj = obj_func(temp, weights)\n",
        "    \n",
        "    # возвращает оптимальное разбиение для графа, значения целевых функций MAXCUT и RELAX\n",
        "    return cvx_obj, relax_obj, obj, nodes "
      ],
      "id": "i3nlc4_Wx0v4"
    },
    {
      "cell_type": "markdown",
      "metadata": {
        "id": "ckG5enMsx0v5"
      },
      "source": [
        "### 7.3. Анализ полученных результатов"
      ],
      "id": "ckG5enMsx0v5"
    },
    {
      "cell_type": "code",
      "execution_count": 1,
      "metadata": {
        "colab": {
          "base_uri": "https://localhost:8080/",
          "height": 235
        },
        "id": "wDObqUA2x0v5",
        "outputId": "b2cce4ba-1644-43a5-b868-ea245b78acff"
      },
      "outputs": [
        {
          "output_type": "error",
          "ename": "NameError",
          "evalue": "ignored",
          "traceback": [
            "\u001b[0;31m---------------------------------------------------------------------------\u001b[0m",
            "\u001b[0;31mNameError\u001b[0m                                 Traceback (most recent call last)",
            "\u001b[0;32m<ipython-input-1-606022b4401d>\u001b[0m in \u001b[0;36m<module>\u001b[0;34m()\u001b[0m\n\u001b[1;32m      1\u001b[0m \u001b[0;31m# получаем граф\u001b[0m\u001b[0;34m\u001b[0m\u001b[0;34m\u001b[0m\u001b[0;34m\u001b[0m\u001b[0m\n\u001b[0;32m----> 2\u001b[0;31m \u001b[0medges_1\u001b[0m\u001b[0;34m,\u001b[0m \u001b[0medge_count_1\u001b[0m\u001b[0;34m,\u001b[0m \u001b[0mnode_count_1\u001b[0m\u001b[0;34m,\u001b[0m \u001b[0mweights_1\u001b[0m \u001b[0;34m=\u001b[0m \u001b[0mget_graph\u001b[0m\u001b[0;34m(\u001b[0m\u001b[0;34m'data/gc_20_1'\u001b[0m\u001b[0;34m)\u001b[0m\u001b[0;34m\u001b[0m\u001b[0;34m\u001b[0m\u001b[0m\n\u001b[0m\u001b[1;32m      3\u001b[0m \u001b[0;34m\u001b[0m\u001b[0m\n\u001b[1;32m      4\u001b[0m \u001b[0;31m# чертим исходный граф\u001b[0m\u001b[0;34m\u001b[0m\u001b[0;34m\u001b[0m\u001b[0;34m\u001b[0m\u001b[0m\n\u001b[1;32m      5\u001b[0m \u001b[0mdraw_graph\u001b[0m\u001b[0;34m(\u001b[0m\u001b[0medges_1\u001b[0m\u001b[0;34m,\u001b[0m \u001b[0mnode_count_1\u001b[0m\u001b[0;34m)\u001b[0m\u001b[0;34m\u001b[0m\u001b[0;34m\u001b[0m\u001b[0m\n",
            "\u001b[0;31mNameError\u001b[0m: name 'get_graph' is not defined"
          ]
        }
      ],
      "source": [
        "# получаем граф\n",
        "edges_1, edge_count_1, node_count_1, weights_1 = get_graph('data/gc_20_1')\n",
        "\n",
        "# чертим исходный граф\n",
        "draw_graph(edges_1, node_count_1)"
      ],
      "id": "wDObqUA2x0v5"
    },
    {
      "cell_type": "code",
      "execution_count": null,
      "metadata": {
        "id": "TL5m2kFBx0v5"
      },
      "outputs": [],
      "source": [
        "def make_graphs_dataset(n_graphs, n_vertex, n_edges, weighted = True):\n",
        "    result = []\n",
        "    if weighted:\n",
        "        for i in range(n_graphs):\n",
        "            g=nx.gnm_random_graph(n_vertex,n_edges)\n",
        "        for (u, v) in g.edges():\n",
        "            g.edges[u,v]['weight'] = random.randint(1,100)\n",
        "        result.append(g)\n",
        "    else:\n",
        "        for i in range(n_graphs):\n",
        "            g=nx.gnm_random_graph(n_vertex,n_edges)\n",
        "            result.append(g)\n",
        "    return result"
      ],
      "id": "TL5m2kFBx0v5"
    },
    {
      "cell_type": "code",
      "execution_count": null,
      "metadata": {
        "id": "nzYF36_Tx0v5"
      },
      "outputs": [],
      "source": [
        "import random"
      ],
      "id": "nzYF36_Tx0v5"
    },
    {
      "cell_type": "code",
      "execution_count": null,
      "metadata": {
        "id": "dUFpjl3Hx0v6"
      },
      "outputs": [],
      "source": [
        "data = []\n",
        "graph = make_graphs_dataset(1, 30, 30)\n",
        "data.append(graph[0])\n",
        "graph = make_graphs_dataset(1, 30, 40)\n",
        "data.append(graph[0])\n",
        "graph = make_graphs_dataset(1, 30, 50)\n",
        "data.append(graph[0])\n",
        "graph = make_graphs_dataset(1, 30, 70)\n",
        "data.append(graph[0])\n",
        "graph = make_graphs_dataset(1, 30, 90)\n",
        "data.append(graph[0])\n",
        "graph = make_graphs_dataset(1, 30, 110)\n",
        "data.append(graph[0])\n",
        "graph = make_graphs_dataset(1, 30, 130)\n",
        "data.append(graph[0])\n",
        "graph = make_graphs_dataset(1, 30, 160)\n",
        "data.append(graph[0])\n",
        "graph = make_graphs_dataset(1, 30, 190)\n",
        "data.append(graph[0])\n",
        "graph = make_graphs_dataset(1, 30, 230)\n",
        "data.append(graph[0])\n",
        "graph = make_graphs_dataset(1, 30, 270)\n",
        "data.append(graph[0])\n",
        "graph = make_graphs_dataset(1, 30, 320)\n",
        "data.append(graph[0])\n",
        "graph = make_graphs_dataset(1, 30, 370)\n",
        "data.append(graph[0])\n",
        "graph = make_graphs_dataset(1, 30, 400)\n",
        "data.append(graph[0])"
      ],
      "id": "dUFpjl3Hx0v6"
    },
    {
      "cell_type": "code",
      "execution_count": null,
      "metadata": {
        "id": "MiqAuO3Ix0v6"
      },
      "outputs": [],
      "source": [
        "sdp_results_1 = []\n",
        "for g in data:\n",
        "    edges_1 = list(g.edges)\n",
        "    edge_count_1 = g.number_of_edges()\n",
        "    node_count_1 = g.number_of_nodes()\n",
        "    weights_1 = np.zeros((node_count_1, node_count_1))\n",
        "    for x in g.edges(data=True):\n",
        "        weights_1[x[0]][x[1]] = x[2]['weight']\n",
        "        weights_1[x[1]][x[0]] = x[2]['weight']\n",
        "    packet_relax_obj, relax_obj, obj, nodes = sdp_maxcut(edge_count_1, node_count_1, weights_1, epsilon=1)\n",
        "    sdp_results_1.append([packet_relax_obj, relax_obj, obj, nodes, node_count_1, edge_count_1])"
      ],
      "id": "MiqAuO3Ix0v6"
    },
    {
      "cell_type": "code",
      "execution_count": null,
      "metadata": {
        "id": "WpI9vuQ5x0v6"
      },
      "outputs": [],
      "source": [
        "#Возвращает количество неравенств, которые не выполняются\n",
        "def inequality(results):\n",
        "    res = []\n",
        "    for i in range(len(results)):\n",
        "        res.append(0.878 * results[i][1] <= results[i][2])\n",
        "        res.append(results[i][2] <= results[i][1])\n",
        "    return 2 * len(results) - np.array(res).sum()"
      ],
      "id": "WpI9vuQ5x0v6"
    },
    {
      "cell_type": "code",
      "execution_count": null,
      "metadata": {
        "id": "kPirAppLx0v6"
      },
      "outputs": [],
      "source": [
        "inequality(sdp_results_1)"
      ],
      "id": "kPirAppLx0v6"
    },
    {
      "cell_type": "code",
      "execution_count": null,
      "metadata": {
        "id": "TdR7RZp1x0v7"
      },
      "outputs": [],
      "source": [
        "sdp_results_05 = []\n",
        "for g in data:\n",
        "    edges_1 = list(g.edges)\n",
        "    edge_count_1 = g.number_of_edges()\n",
        "    node_count_1 = g.number_of_nodes()\n",
        "    weights_1 = np.zeros((node_count_1, node_count_1))\n",
        "    for x in g.edges(data=True):\n",
        "        weights_1[x[0]][x[1]] = x[2]['weight']\n",
        "        weights_1[x[1]][x[0]] = x[2]['weight']\n",
        "    packet_relax_obj, relax_obj, obj, nodes = sdp_maxcut(edge_count_1, node_count_1, weights_1, epsilon=0.5)\n",
        "    sdp_results_05.append([packet_relax_obj, relax_obj, obj, nodes, node_count_1, edge_count_1])"
      ],
      "id": "TdR7RZp1x0v7"
    },
    {
      "cell_type": "code",
      "execution_count": null,
      "metadata": {
        "id": "_qI9OhgJx0v7"
      },
      "outputs": [],
      "source": [
        "inequality(sdp_results_05)"
      ],
      "id": "_qI9OhgJx0v7"
    },
    {
      "cell_type": "code",
      "execution_count": null,
      "metadata": {
        "id": "NQNkC_eWx0v7"
      },
      "outputs": [],
      "source": [
        "sdp_results_01 = []\n",
        "for g in data:\n",
        "    edges_1 = list(g.edges)\n",
        "    edge_count_1 = g.number_of_edges()\n",
        "    node_count_1 = g.number_of_nodes()\n",
        "    weights_1 = np.zeros((node_count_1, node_count_1))\n",
        "    for x in g.edges(data=True):\n",
        "        weights_1[x[0]][x[1]] = x[2]['weight']\n",
        "        weights_1[x[1]][x[0]] = x[2]['weight']\n",
        "    packet_relax_obj, relax_obj, obj, nodes = sdp_maxcut(edge_count_1, node_count_1, weights_1, epsilon=0.1)\n",
        "    sdp_results_01.append([packet_relax_obj, relax_obj, obj, nodes, node_count_1, edge_count_1])"
      ],
      "id": "NQNkC_eWx0v7"
    },
    {
      "cell_type": "code",
      "execution_count": null,
      "metadata": {
        "id": "7pxgJQRFx0v7"
      },
      "outputs": [],
      "source": [
        "inequality(sdp_results_01)"
      ],
      "id": "7pxgJQRFx0v7"
    },
    {
      "cell_type": "code",
      "execution_count": null,
      "metadata": {
        "id": "zKKX32F2x0v8"
      },
      "outputs": [],
      "source": [
        "sdp_results_001 = []\n",
        "for g in data:\n",
        "    edges_1 = list(g.edges)\n",
        "    edge_count_1 = g.number_of_edges()\n",
        "    node_count_1 = g.number_of_nodes()\n",
        "    weights_1 = np.zeros((node_count_1, node_count_1))\n",
        "    for x in g.edges(data=True):\n",
        "        weights_1[x[0]][x[1]] = x[2]['weight']\n",
        "        weights_1[x[1]][x[0]] = x[2]['weight']\n",
        "    packet_relax_obj, relax_obj, obj, nodes = sdp_maxcut(edge_count_1, node_count_1, weights_1, epsilon=0.01)\n",
        "    sdp_results_001.append([packet_relax_obj, relax_obj, obj, nodes, node_count_1, edge_count_1])"
      ],
      "id": "zKKX32F2x0v8"
    },
    {
      "cell_type": "code",
      "execution_count": null,
      "metadata": {
        "id": "Mi45dlVWx0v8"
      },
      "outputs": [],
      "source": [
        "inequality(sdp_results_001)"
      ],
      "id": "Mi45dlVWx0v8"
    },
    {
      "cell_type": "code",
      "execution_count": null,
      "metadata": {
        "id": "_JL4J6ktx0v8"
      },
      "outputs": [],
      "source": [
        "x = [30, 40, 50, 70, 90, 110, 130, 160, 190, 230, 270, 320, 370, 400]\n",
        "y_1 = [sdp_results_1[i][2] for i in range(len(sdp_results_1))]\n",
        "y_05 = [sdp_results_05[i][2] for i in range(len(sdp_results_05))]\n",
        "y_01 = [sdp_results_01[i][2] for i in range(len(sdp_results_01))]\n",
        "y_001 = [sdp_results_001[i][2] for i in range(len(sdp_results_001))]"
      ],
      "id": "_JL4J6ktx0v8"
    },
    {
      "cell_type": "code",
      "execution_count": null,
      "metadata": {
        "id": "j3G8hpUgx0v8"
      },
      "outputs": [],
      "source": [
        "draw_coloured_graph(data[10].edges, sdp_results_1[10][-2], sdp_results_1[10][-3])\n",
        "plt.title('eps = 1')\n",
        "plt.show();"
      ],
      "id": "j3G8hpUgx0v8"
    },
    {
      "cell_type": "code",
      "execution_count": null,
      "metadata": {
        "id": "BVeS1zcxx0v9"
      },
      "outputs": [],
      "source": [
        "draw_coloured_graph(data[10].edges, sdp_results_001[10][-2], sdp_results_001[10][-3])\n",
        "plt.title('eps = 0.01')\n",
        "plt.show();"
      ],
      "id": "BVeS1zcxx0v9"
    },
    {
      "cell_type": "code",
      "execution_count": null,
      "metadata": {
        "id": "2J3Lisuix0v9"
      },
      "outputs": [],
      "source": [
        "draw_coloured_graph(data[0].edges, sdp_results_1[0][-2], sdp_results_1[0][-3])\n",
        "plt.title('eps = 1')\n",
        "plt.show();"
      ],
      "id": "2J3Lisuix0v9"
    },
    {
      "cell_type": "code",
      "execution_count": null,
      "metadata": {
        "id": "bt8MNzzIx0v9"
      },
      "outputs": [],
      "source": [
        "draw_coloured_graph(data[0].edges, sdp_results_001[0][-2], sdp_results_001[0][-3])\n",
        "plt.title('eps = 0.01')\n",
        "plt.show();"
      ],
      "id": "bt8MNzzIx0v9"
    },
    {
      "cell_type": "code",
      "execution_count": null,
      "metadata": {
        "id": "dMBPsHYOx0v9"
      },
      "outputs": [],
      "source": [
        "plt.plot(x, y_1, label = 'eps = 1')\n",
        "plt.legend()\n",
        "plt.plot(x, y_05, label = 'eps = 0.5')\n",
        "plt.legend()\n",
        "plt.plot(x, y_01, label = 'eps = 0.1')\n",
        "plt.legend()\n",
        "plt.plot(x, y_001, label = 'eps = 0.01')\n",
        "plt.legend()\n",
        "plt.title('Абсолютные значения результатов работы алгоритма SDP для разных eps');"
      ],
      "id": "dMBPsHYOx0v9"
    },
    {
      "cell_type": "code",
      "execution_count": null,
      "metadata": {
        "id": "Ue0_8wtBx0v-"
      },
      "outputs": [],
      "source": [
        "delta_1 = [y_05[i] - y_1[i] for i in range(len(y_1))]\n",
        "delta_2 = [y_01[i] - y_1[i] for i in range(len(y_1))]\n",
        "delta_3 = [y_001[i] - y_1[i] for i in range(len(y_1))]"
      ],
      "id": "Ue0_8wtBx0v-"
    },
    {
      "cell_type": "code",
      "execution_count": null,
      "metadata": {
        "id": "fF8_J_Cdx0v-"
      },
      "outputs": [],
      "source": [
        "plt.plot(x, delta_1, label = 'delta_1')\n",
        "plt.legend()\n",
        "plt.plot(x, delta_2, label = 'delta_2')\n",
        "plt.legend()\n",
        "plt.plot(x, delta_3, label = 'delta_3')\n",
        "plt.legend()\n",
        "plt.title('Разность результатов отработки алгоритма для разных epsilon(от числа ребер в графе с 30 вершинами)')\n",
        "plt.show();"
      ],
      "id": "fF8_J_Cdx0v-"
    },
    {
      "cell_type": "code",
      "execution_count": null,
      "metadata": {
        "id": "IIIwgsb5x0v-"
      },
      "outputs": [],
      "source": [
        "plt.plot(x, np.array(delta_3) / np.array(y_1))\n",
        "plt.title('Нормированная разность для epsilon = 1 и 0.01');"
      ],
      "id": "IIIwgsb5x0v-"
    },
    {
      "cell_type": "markdown",
      "metadata": {
        "id": "hCyyKa8Wx0v-"
      },
      "source": [
        "Такое поведение(уход ниже нуля) можно объяснить методом восстановления решения, где присутствует случайность.\n",
        "Можно оставить eps=1, т.к. относительное изменение результата очень мало."
      ],
      "id": "hCyyKa8Wx0v-"
    },
    {
      "cell_type": "markdown",
      "metadata": {
        "id": "p8qM7sVEx0v-"
      },
      "source": [
        "Далее сравним результаты работы нашего алгоритма с алгоритмом flipcoin"
      ],
      "id": "p8qM7sVEx0v-"
    },
    {
      "cell_type": "markdown",
      "metadata": {
        "id": "PniDwNfNx0v_"
      },
      "source": [
        "Для себя: чекнуть еще неравенство, то есть сравнить наш алгоритм с пакетным"
      ],
      "id": "PniDwNfNx0v_"
    },
    {
      "cell_type": "code",
      "execution_count": null,
      "metadata": {
        "id": "xehv0zWVx0v_"
      },
      "outputs": [],
      "source": [
        "flipcoin_results_1 = []\n",
        "for g in data:\n",
        "    edges_1 = list(g.edges)\n",
        "    edge_count_1 = g.number_of_edges()\n",
        "    node_count_1 = g.number_of_nodes()\n",
        "    weights_1 = np.zeros((node_count_1, node_count_1))\n",
        "    for x in g.edges(data=True):\n",
        "        weights_1[x[0]][x[1]] = x[2]['weight']\n",
        "        weights_1[x[1]][x[0]] = x[2]['weight']\n",
        "    flipcoin_obj_1, flipcoin_nodes_1 = flipcoin_maxcut(edge_count_1, node_count_1, weights_1)\n",
        "    flipcoin_results_1.append([flipcoin_obj_1, flipcoin_nodes_1, node_count_1, edge_count_1])"
      ],
      "id": "xehv0zWVx0v_"
    },
    {
      "cell_type": "code",
      "execution_count": null,
      "metadata": {
        "id": "A3dlITGRx0v_"
      },
      "outputs": [],
      "source": [
        "draw_coloured_graph(data[10].edges, sdp_results_1[10][-2], sdp_results_1[10][-3])\n",
        "plt.title('SDP, eps = 1')\n",
        "plt.show();"
      ],
      "id": "A3dlITGRx0v_"
    },
    {
      "cell_type": "code",
      "execution_count": null,
      "metadata": {
        "id": "8fNfqVpYx0v_"
      },
      "outputs": [],
      "source": [
        "draw_coloured_graph(data[10].edges, flipcoin_results_1[10][-2], flipcoin_results_1[10][-3])\n",
        "plt.title('flipcoin')\n",
        "plt.show();"
      ],
      "id": "8fNfqVpYx0v_"
    },
    {
      "cell_type": "code",
      "execution_count": null,
      "metadata": {
        "id": "CP3k_3ZIx0v_"
      },
      "outputs": [],
      "source": [
        "x = [30, 40, 50, 70, 90, 110, 130, 160, 190, 230, 270, 320, 370, 400]\n",
        "y = [flipcoin_results_1[i][0] for i in range(len(flipcoin_results_1))]"
      ],
      "id": "CP3k_3ZIx0v_"
    },
    {
      "cell_type": "code",
      "execution_count": null,
      "metadata": {
        "id": "SWQE4_nHx0wA"
      },
      "outputs": [],
      "source": [
        "plt.plot(x, y_1, label = 'eps = 1')\n",
        "plt.legend()\n",
        "plt.plot(x, y_05, label = 'eps = 0.5')\n",
        "plt.legend()\n",
        "plt.plot(x, y_01, label = 'eps = 0.1')\n",
        "plt.legend()\n",
        "plt.plot(x, y_001, label = 'eps = 0.01')\n",
        "plt.legend()\n",
        "plt.plot(x, y, label = 'flipcoin')\n",
        "plt.legend()\n",
        "plt.title('Абсолютные значения результатов работы алгоритма SDP для разных eps и алгоритма flipcoin');"
      ],
      "id": "SWQE4_nHx0wA"
    },
    {
      "cell_type": "code",
      "execution_count": null,
      "metadata": {
        "id": "t4hTlY7Wx0wA"
      },
      "outputs": [],
      "source": [
        "delta = [y_1[i] - y[i] for i in range(len(y))]\n",
        "plt.plot(x, delta, label = 'delta_1')\n",
        "plt.legend()\n",
        "plt.title('Разность результатов отработки алгоритма SDP(eps = 1) и алгоритма flipcoin')\n",
        "plt.show();"
      ],
      "id": "t4hTlY7Wx0wA"
    },
    {
      "cell_type": "code",
      "execution_count": null,
      "metadata": {
        "id": "7IgLOBqDx0wA"
      },
      "outputs": [],
      "source": [
        "plt.plot(x, np.array(delta) / np.array(y_1))\n",
        "plt.title('Нормированная разность результатов для SDP c epsilon = 1 и flipcoin');"
      ],
      "id": "7IgLOBqDx0wA"
    },
    {
      "cell_type": "markdown",
      "metadata": {
        "id": "uev_zR77x0wA"
      },
      "source": [
        "Видим, что алгоритм SDP решал задачу лучше на несколько процентов, что довольно весомо."
      ],
      "id": "uev_zR77x0wA"
    },
    {
      "cell_type": "markdown",
      "metadata": {
        "id": "9pCol_7Ix0wB"
      },
      "source": [
        "Выводы: \n",
        "\n",
        "*   Для алгоритма SDP проверили истинность теоретических неравенств. Оно выполняется.\n",
        "*   Для алгоритма SDP посмотрели на результаты работы при различных eps и выбрали(из соображений скорости работы алгоритма и малой разности результата) для сравнительного анализа нужное значение. \n",
        "*   Сравнили визуально результаты работы двух алгоритмовна одном датасете из разреженных и неразреженных графов.\n",
        "*   Сравнили численно результаты работы двух алгоритмов. Оказалось, что SDP справляется с задачей лучше на 3-6%.\n",
        "*   Стоит отметить, что алгоритм SDP обрабатывал датасет примерно в 5 раз дольше алгоритма flipcoin, что является платой за качество:)\n"
      ],
      "id": "9pCol_7Ix0wB"
    }
  ],
  "metadata": {
    "kernelspec": {
      "display_name": "Python 3",
      "language": "python",
      "name": "python3"
    },
    "language_info": {
      "codemirror_mode": {
        "name": "ipython",
        "version": 3
      },
      "file_extension": ".py",
      "mimetype": "text/x-python",
      "name": "python",
      "nbconvert_exporter": "python",
      "pygments_lexer": "ipython3",
      "version": "3.8.5"
    },
    "colab": {
      "name": "SDP .ipynb",
      "provenance": [],
      "include_colab_link": true
    }
  },
  "nbformat": 4,
  "nbformat_minor": 5
}